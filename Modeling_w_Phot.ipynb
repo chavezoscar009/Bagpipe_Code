{
 "cells": [
  {
   "cell_type": "code",
   "execution_count": 1,
   "metadata": {},
   "outputs": [
    {
     "name": "stdout",
     "output_type": "stream",
     "text": [
      "Bagpipes: Latex distribution not found, plots may look strange.\n"
     ]
    }
   ],
   "source": [
    "import bagpipes as pipes\n",
    "import numpy as np"
   ]
  },
  {
   "cell_type": "code",
   "execution_count": 2,
   "metadata": {},
   "outputs": [],
   "source": [
    "import pandas as pd\n",
    "from scipy.integrate import trapz"
   ]
  },
  {
   "cell_type": "code",
   "execution_count": 3,
   "metadata": {},
   "outputs": [],
   "source": [
    "path_cat = 'cosmos_3dhst.v4.1.cats/Catalog/cosmos_3dhst.v4.1.cat'"
   ]
  },
  {
   "cell_type": "code",
   "execution_count": 4,
   "metadata": {},
   "outputs": [],
   "source": [
    "#reading in the data\n",
    "data_cat = np.genfromtxt(path_cat)\n",
    "\n",
    "#readin gin the column names\n",
    "columns = np.loadtxt('column_names.txt', dtype=str)"
   ]
  },
  {
   "cell_type": "code",
   "execution_count": 5,
   "metadata": {},
   "outputs": [],
   "source": [
    "#making a pandas dataframe for easy accessing\n",
    "df = pd.DataFrame(data = data_cat, columns = columns)"
   ]
  },
  {
   "cell_type": "code",
   "execution_count": 6,
   "metadata": {},
   "outputs": [],
   "source": [
    "#getting the data with the filters that I have\n",
    "reduced_df = df[['f_F606W', 'e_F606W', 'f_F814W', 'e_F814W', 'f_F140W', 'e_F140W', 'f_F160W', 'e_F160W', \n",
    "                 'f_IRAC1', 'e_IRAC1', 'f_IRAC2', 'e_IRAC2', 'f_IRAC3', 'e_IRAC3', 'f_IRAC4', 'e_IRAC4']]"
   ]
  },
  {
   "cell_type": "code",
   "execution_count": 7,
   "metadata": {},
   "outputs": [],
   "source": [
    "#converting to array\n",
    "numpy_arr = reduced_df.to_numpy()"
   ]
  },
  {
   "cell_type": "code",
   "execution_count": 63,
   "metadata": {},
   "outputs": [],
   "source": [
    "#getting ID 367 data and reshaping it to be a 2 column array\n",
    "check_ = numpy_arr[185].reshape(-1, 2)"
   ]
  },
  {
   "cell_type": "code",
   "execution_count": 64,
   "metadata": {},
   "outputs": [
    {
     "data": {
      "text/plain": [
       "array([[ 9.647828e-01,  4.447482e-02],\n",
       "       [ 1.289165e+00,  5.607619e-02],\n",
       "       [-9.900000e+01, -9.900000e+01],\n",
       "       [ 4.115287e+00,  1.449723e-01],\n",
       "       [ 6.937791e+00,  3.230646e-01],\n",
       "       [ 7.325922e+00,  2.832005e-01],\n",
       "       [ 1.320841e+01,  4.356275e+00],\n",
       "       [-9.900000e+01, -9.900000e+01]])"
      ]
     },
     "execution_count": 64,
     "metadata": {},
     "output_type": "execute_result"
    }
   ],
   "source": [
    "check_"
   ]
  },
  {
   "cell_type": "code",
   "execution_count": 52,
   "metadata": {},
   "outputs": [],
   "source": [
    "#making the bagpipes model\n",
    "\n",
    "#here I used the delayed_exponential\n",
    "model_delayedexp = {}\n",
    "model_delayedexp ['age'] = 1.945 \n",
    "model_delayedexp ['tau'] = 8.026\n",
    "model_delayedexp [\"metallicity\"] = 0.413\n",
    "model_delayedexp [\"massformed\"] = 9.960  \n",
    "\n",
    "dust = {}                               \n",
    "dust[\"type\"] = \"Calzetti\"                \n",
    "dust[\"Av\"] = 0.772                    \n",
    "\n",
    "model_components = {}\n",
    "model_components['redshift'] = 1.533\n",
    "model_components['delayed'] = model_delayedexp\n",
    "model_components['dust'] = dust"
   ]
  },
  {
   "cell_type": "code",
   "execution_count": 53,
   "metadata": {},
   "outputs": [],
   "source": [
    "#making the filters path so bagpipes can get filter information\n",
    "path = 'pipes/filters'\n",
    "test_filt = [path +'/HST_Filters/ACS_f606w.txt', path +'/HST_Filters/ACS_f814w.txt', path +'/HST_Filters/wfc_f140w.txt', path +'/HST_Filters/wfc_f160w.txt', \n",
    "             path +'/IRAC_Filters/IRAC_36_filt.txt', path +'/IRAC_Filters/IRAC_45_filt.txt', path +'/IRAC_Filters/IRAC_58_filt.txt', path +'/IRAC_Filters/IRAC_80_filt.txt']"
   ]
  },
  {
   "cell_type": "code",
   "execution_count": 72,
   "metadata": {},
   "outputs": [],
   "source": [
    "def effective_lambda(path):\n",
    "    \n",
    "    wavelength, transmission = np.loadtxt(path, unpack=True)\n",
    "    \n",
    "    num = wavelength * transmission\n",
    "    \n",
    "    int_num = trapz(y = num, dx = .1)\n",
    "    int_denom = trapz(y=transmission, dx = .1)\n",
    "    \n",
    "    return round(int_num/int_denom, 4)"
   ]
  },
  {
   "cell_type": "code",
   "execution_count": 75,
   "metadata": {},
   "outputs": [],
   "source": [
    "eff_wave = []\n",
    "for i in test_filt:\n",
    "    eff_wave.append(np.log10(effective_lambda(i)))"
   ]
  },
  {
   "cell_type": "code",
   "execution_count": 54,
   "metadata": {},
   "outputs": [],
   "source": [
    "galaxy = pipes.model_galaxy(model_components=model_components, filt_list = test_filt, phot_units='mujy')"
   ]
  },
  {
   "cell_type": "code",
   "execution_count": 78,
   "metadata": {},
   "outputs": [],
   "source": [
    "import matplotlib.pyplot as plt"
   ]
  },
  {
   "cell_type": "code",
   "execution_count": 55,
   "metadata": {},
   "outputs": [
    {
     "data": {
      "image/png": "[encoded data removed]",
      "text/plain": [
       "<Figure size 864x288 with 1 Axes>"
      ]
     },
     "metadata": {
      "needs_background": "light"
     },
     "output_type": "display_data"
    },
    {
     "data": {
      "text/plain": [
       "(<Figure size 864x288 with 1 Axes>,\n",
       " [<AxesSubplot:xlabel='log_10(lambda / A)', ylabel='f_lambda / 10^-19 erg s^-1 cm^-2 A^-1'>])"
      ]
     },
     "execution_count": 55,
     "metadata": {},
     "output_type": "execute_result"
    }
   ],
   "source": [
    "galaxy.plot()"
   ]
  },
  {
   "cell_type": "code",
   "execution_count": 56,
   "metadata": {},
   "outputs": [],
   "source": [
    "#get the photometry of the galaxy in the given filters in mujy\n",
    "phot_mujy = galaxy.photometry"
   ]
  },
  {
   "cell_type": "code",
   "execution_count": 57,
   "metadata": {},
   "outputs": [
    {
     "data": {
      "text/plain": [
       "array([0.39553639, 0.50523353, 1.48467647, 1.62110748, 2.65294942,\n",
       "       2.85579502, 2.28066151, 2.26914867])"
      ]
     },
     "execution_count": 57,
     "metadata": {},
     "output_type": "execute_result"
    }
   ],
   "source": [
    "phot_mujy"
   ]
  },
  {
   "cell_type": "code",
   "execution_count": 58,
   "metadata": {},
   "outputs": [],
   "source": [
    "AB_mag_model = -2.5*np.log10(phot_mujy/1e6) + 8.90"
   ]
  },
  {
   "cell_type": "code",
   "execution_count": 66,
   "metadata": {},
   "outputs": [
    {
     "name": "stderr",
     "output_type": "stream",
     "text": [
      "/Users/oscarachavezortiz/opt/anaconda3/envs/astroconda/lib/python3.6/site-packages/ipykernel_launcher.py:1: RuntimeWarning: invalid value encountered in log10\n",
      "  \"\"\"Entry point for launching an IPython kernel.\n"
     ]
    }
   ],
   "source": [
    "AB_mag_cosmos = -2.5*np.log10(check_[:,0]) + 25"
   ]
  },
  {
   "cell_type": "code",
   "execution_count": 67,
   "metadata": {},
   "outputs": [
    {
     "name": "stdout",
     "output_type": "stream",
     "text": [
      "24.907033894719568  -------------  25.038926119176047\n",
      "24.641269582169187  -------------  24.724228734538265\n",
      "23.470920433259153  -------------  nan\n",
      "23.37547047560577  -------------  23.46399967927635\n",
      "22.840677576463342  -------------  22.89694696839614\n",
      "22.760682418475294  -------------  22.837844274085157\n",
      "23.004847914856327  -------------  22.19787364668789\n",
      "23.010342624496623  -------------  nan\n"
     ]
    }
   ],
   "source": [
    "for i in range(len(AB_mag_model)):\n",
    "    print(AB_mag_model[i], ' ------------- ', AB_mag_cosmos[i])"
   ]
  },
  {
   "cell_type": "code",
   "execution_count": 61,
   "metadata": {},
   "outputs": [],
   "source": [
    "#converting it to cosmos flux values\n",
    "flux_model_cosmo = 10**((AB_mag_model-25)/-2.5)"
   ]
  },
  {
   "cell_type": "code",
   "execution_count": 65,
   "metadata": {},
   "outputs": [
    {
     "name": "stdout",
     "output_type": "stream",
     "text": [
      "pipes/filters/HST_Filters/ACS_f606w.txt  -----------  1.089397670104387  ---------  0.9647828\n",
      "pipes/filters/HST_Filters/ACS_f814w.txt  -----------  1.3915286972233618  ---------  1.289165\n",
      "pipes/filters/HST_Filters/wfc_f140w.txt  -----------  4.0891385588044  ---------  -99.0\n",
      "pipes/filters/HST_Filters/wfc_f160w.txt  -----------  4.464900753400409  ---------  4.115287\n",
      "pipes/filters/IRAC_Filters/IRAC_36_filt.txt  -----------  7.306829431417999  ---------  6.937791\n",
      "pipes/filters/IRAC_Filters/IRAC_45_filt.txt  -----------  7.865512627275056  ---------  7.325922\n",
      "pipes/filters/IRAC_Filters/IRAC_58_filt.txt  -----------  6.281463406228249  ---------  13.20841\n",
      "pipes/filters/IRAC_Filters/IRAC_80_filt.txt  -----------  6.249754388898504  ---------  -99.0\n"
     ]
    }
   ],
   "source": [
    "for i in range(len(test_filt)):\n",
    "    print(test_filt[i], ' ----------- ', flux_model_cosmo[i], ' --------- ', check_[i, 0])"
   ]
  },
  {
   "cell_type": "code",
   "execution_count": null,
   "metadata": {},
   "outputs": [],
   "source": []
  },
  {
   "cell_type": "code",
   "execution_count": 43,
   "metadata": {},
   "outputs": [],
   "source": [
    "#making the bagpipes model\n",
    "\n",
    "#here I used the delayed_exponential\n",
    "model_delayedexp = {}\n",
    "model_delayedexp ['age'] = 2.928\n",
    "model_delayedexp ['tau'] = .579\n",
    "model_delayedexp [\"metallicity\"] = 1.057\n",
    "model_delayedexp [\"massformed\"] = 11.529  \n",
    "\n",
    "dust = {}                               \n",
    "dust[\"type\"] = \"Calzetti\"                \n",
    "dust[\"Av\"] = .869                    \n",
    "\n",
    "model_components = {}\n",
    "model_components['redshift'] = .874\n",
    "model_components['delayed'] = model_delayedexp\n",
    "model_components['dust'] = dust"
   ]
  },
  {
   "cell_type": "code",
   "execution_count": 45,
   "metadata": {},
   "outputs": [],
   "source": [
    "galaxy_median = pipes.model_galaxy(model_components=model_components, filt_list = test_filt, phot_units='mujy')"
   ]
  },
  {
   "cell_type": "code",
   "execution_count": 47,
   "metadata": {},
   "outputs": [],
   "source": [
    "phot_median = galaxy_median.photometry"
   ]
  },
  {
   "cell_type": "code",
   "execution_count": 48,
   "metadata": {},
   "outputs": [],
   "source": [
    "AB_mag_model_median = -2.5*np.log10(phot_median/1e6) + 8.90"
   ]
  },
  {
   "cell_type": "code",
   "execution_count": 49,
   "metadata": {},
   "outputs": [
    {
     "name": "stdout",
     "output_type": "stream",
     "text": [
      "22.171737397313777  -------------  23.242475684033778\n",
      "20.761635204760168  -------------  21.836911513479794\n",
      "19.443154921775204  -------------  nan\n",
      "19.242978214311215  -------------  20.33373330934866\n",
      "18.477138986286086  -------------  19.573306689774327\n",
      "18.810468701355596  -------------  19.904594542713667\n",
      "18.954876305517253  -------------  20.070443049478797\n",
      "19.46403767573017  -------------  20.62454255907978\n"
     ]
    }
   ],
   "source": [
    "for i in range(len(AB_mag_model)):\n",
    "    print(AB_mag_model_median[i], ' ------------- ', AB_mag_cosmos[i])"
   ]
  },
  {
   "cell_type": "code",
   "execution_count": 50,
   "metadata": {},
   "outputs": [],
   "source": [
    "#converting it to cosmos flux values\n",
    "flux_model_median_cosmo = 10**((AB_mag_model_median-25)/-2.5)"
   ]
  },
  {
   "cell_type": "code",
   "execution_count": 51,
   "metadata": {},
   "outputs": [
    {
     "name": "stdout",
     "output_type": "stream",
     "text": [
      "pipes/filters/HST_Filters/ACS_f606w.txt  -----------  13.530225696143077  ---------  5.046726\n",
      "pipes/filters/HST_Filters/ACS_f814w.txt  -----------  49.584497698457  ---------  18.4177\n",
      "pipes/filters/HST_Filters/wfc_f140w.txt  -----------  167.00829076420342  ---------  -99.0\n",
      "pipes/filters/HST_Filters/wfc_f160w.txt  -----------  200.820809919998  ---------  73.53713\n",
      "pipes/filters/IRAC_Filters/IRAC_36_filt.txt  -----------  406.578496448374  ---------  148.1417\n",
      "pipes/filters/IRAC_Filters/IRAC_45_filt.txt  -----------  299.09731849544727  ---------  109.1848\n",
      "pipes/filters/IRAC_Filters/IRAC_58_filt.txt  -----------  261.8481306498157  ---------  93.71795\n",
      "pipes/filters/IRAC_Filters/IRAC_80_filt.txt  -----------  163.82679297132336  ---------  56.25783\n"
     ]
    }
   ],
   "source": [
    "for i in range(len(test_filt)):\n",
    "    print(test_filt[i], ' ----------- ', flux_model_median_cosmo[i], ' --------- ', check_[i, 0])"
   ]
  },
  {
   "cell_type": "code",
   "execution_count": null,
   "metadata": {},
   "outputs": [],
   "source": []
  },
  {
   "cell_type": "code",
   "execution_count": null,
   "metadata": {},
   "outputs": [],
   "source": []
  },
  {
   "cell_type": "code",
   "execution_count": null,
   "metadata": {},
   "outputs": [],
   "source": []
  },
  {
   "cell_type": "code",
   "execution_count": null,
   "metadata": {},
   "outputs": [],
   "source": []
  },
  {
   "cell_type": "code",
   "execution_count": null,
   "metadata": {},
   "outputs": [],
   "source": []
  },
  {
   "cell_type": "code",
   "execution_count": null,
   "metadata": {},
   "outputs": [],
   "source": []
  }
 ],
 "metadata": {
  "kernelspec": {
   "display_name": "Python 3",
   "language": "python",
   "name": "python3"
  },
  "language_info": {
   "codemirror_mode": {
    "name": "ipython",
    "version": 3
   },
   "file_extension": ".py",
   "mimetype": "text/x-python",
   "name": "python",
   "nbconvert_exporter": "python",
   "pygments_lexer": "ipython3",
   "version": "3.6.12"
  }
 },
 "nbformat": 4,
 "nbformat_minor": 4
}
