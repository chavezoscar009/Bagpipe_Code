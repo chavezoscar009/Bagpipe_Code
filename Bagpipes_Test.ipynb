{
 "cells": [
  {
   "cell_type": "code",
   "execution_count": 1,
   "metadata": {},
   "outputs": [
    {
     "name": "stdout",
     "output_type": "stream",
     "text": [
      "Bagpipes: Latex distribution not found, plots may look strange.\n"
     ]
    }
   ],
   "source": [
    "import bagpipes as pipes\n",
    "import numpy as np"
   ]
  },
  {
   "cell_type": "code",
   "execution_count": null,
   "metadata": {},
   "outputs": [],
   "source": [
    "exp = {}                          # Tau model star formation history component\n",
    "exp[\"age\"] = 3.                   # Gyr\n",
    "exp[\"tau\"] = 0.75                 # Gyr\n",
    "exp[\"massformed\"] = 9.            # log_10(M*/M_solar)\n",
    "exp[\"metallicity\"] = 0.5          # Z/Z_oldsolar\n",
    "\n",
    "dust = {}                         # Dust component\n",
    "dust[\"type\"] = \"Calzetti\"         # Define the shape of the attenuation curve\n",
    "dust[\"Av\"] = 0.2                  # magnitudes\n",
    "\n",
    "model_components = {}                   # The model components dictionary\n",
    "model_components[\"redshift\"] = 1.0      # Observed redshift  \n",
    "model_components[\"exponential\"] = exp   \n",
    "model_components[\"dust\"] = dust"
   ]
  },
  {
   "cell_type": "code",
   "execution_count": null,
   "metadata": {},
   "outputs": [],
   "source": [
    "\"filters/VIMOS_U\""
   ]
  },
  {
   "cell_type": "code",
   "execution_count": 2,
   "metadata": {},
   "outputs": [],
   "source": [
    "test_uvj = ['pipes/filters/UVJ/Generic-Bessell.U.dat', 'pipes/filters/UVJ/Generic-Bessell.V.dat','pipes/filters/UVJ/Keck-NIRC2.J.dat'] "
   ]
  },
  {
   "cell_type": "code",
   "execution_count": null,
   "metadata": {},
   "outputs": [],
   "source": [
    "pwd"
   ]
  },
  {
   "cell_type": "code",
   "execution_count": null,
   "metadata": {},
   "outputs": [],
   "source": [
    "list_filt = np.loadtxt('pipes/filters/UVJ.filt_list', dtype=str)"
   ]
  },
  {
   "cell_type": "code",
   "execution_count": null,
   "metadata": {},
   "outputs": [],
   "source": []
  },
  {
   "cell_type": "code",
   "execution_count": null,
   "metadata": {},
   "outputs": [],
   "source": [
    "model = pipes.model_galaxy(model_components, filt_list=list_filt)\n"
   ]
  },
  {
   "cell_type": "code",
   "execution_count": null,
   "metadata": {},
   "outputs": [],
   "source": [
    "model.plot()"
   ]
  },
  {
   "cell_type": "code",
   "execution_count": null,
   "metadata": {},
   "outputs": [],
   "source": [
    "model.sfh.plot()"
   ]
  },
  {
   "cell_type": "code",
   "execution_count": null,
   "metadata": {},
   "outputs": [],
   "source": [
    "model.plot_full_spectrum()"
   ]
  },
  {
   "cell_type": "code",
   "execution_count": 3,
   "metadata": {},
   "outputs": [],
   "source": [
    "def load_goodss(ID):\n",
    "    \"\"\" Load CANDELS GOODS South photometry from the Guo et al. (2013) catalogue. \"\"\"\n",
    "\n",
    "    # load up the relevant columns from the catalogue.\n",
    "    cat = np.loadtxt(\"hlsp_candels_hst_wfc3_goodss-tot-multiband_f160w_v1-1photom_cat.txt\",\n",
    "                     usecols=(10, 13, 16,\n",
    "                              11, 14, 17))\n",
    "    \n",
    "    # Find the correct row for the object we want.\n",
    "    row = int(ID) - 1\n",
    "\n",
    "    # Extract the object we want from the catalogue.\n",
    "    fluxes = cat[row, :3]\n",
    "    fluxerrs = cat[row, 3:]\n",
    "\n",
    "    # Turn these into a 2D array.\n",
    "    photometry = np.c_[fluxes, fluxerrs]\n",
    "\n",
    "    # blow up the errors associated with any missing fluxes.\n",
    "    for i in range(len(photometry)):\n",
    "        if (photometry[i, 0] == 0.) or (photometry[i, 1] <= 0):\n",
    "            photometry[i,:] = [0., 9.9*10**99.]\n",
    "            \n",
    "    # Enforce a maximum SNR of 20, or 10 in the IRAC channels.\n",
    "    for i in range(len(photometry)):\n",
    "        if i < 10:\n",
    "            max_snr = 20.\n",
    "            \n",
    "        else:\n",
    "            max_snr = 10.\n",
    "        \n",
    "        if photometry[i, 0]/photometry[i, 1] > max_snr:\n",
    "            photometry[i, 1] = photometry[i, 0]/max_snr\n",
    "\n",
    "    return photometry\n",
    "\n",
    "#goodss_filt_list = np.loadtxt(\"filters/goodss_filt_list.txt\", dtype=\"str\")\n"
   ]
  },
  {
   "cell_type": "code",
   "execution_count": 4,
   "metadata": {},
   "outputs": [],
   "source": [
    "# load up the relevant columns from the catalogue.\n",
    "cat = np.loadtxt(\"hlsp_candels_hst_wfc3_goodss-tot-multiband_f160w_v1-1photom_cat.txt\",\n",
    "                 usecols=(10, 13, 16, 19, 25, 28, 31, 34, 37, 43, 46, 49, 52, 55,\n",
    "                          11, 14, 17, 20, 26, 29, 32, 35, 38, 44, 47, 50, 53, 56))"
   ]
  },
  {
   "cell_type": "code",
   "execution_count": null,
   "metadata": {},
   "outputs": [],
   "source": [
    "print(cat.shape)"
   ]
  },
  {
   "cell_type": "code",
   "execution_count": 5,
   "metadata": {},
   "outputs": [
    {
     "ename": "SyntaxError",
     "evalue": "EOL while scanning string literal (<ipython-input-5-c43bd084ebb7>, line 15)",
     "output_type": "error",
     "traceback": [
      "\u001b[0;36m  File \u001b[0;32m\"<ipython-input-5-c43bd084ebb7>\"\u001b[0;36m, line \u001b[0;32m15\u001b[0m\n\u001b[0;31m    \"filters/IRAC4\u001b[0m\n\u001b[0m                  ^\u001b[0m\n\u001b[0;31mSyntaxError\u001b[0m\u001b[0;31m:\u001b[0m EOL while scanning string literal\n"
     ]
    }
   ],
   "source": [
    "goodss_filt_list = [\"filters/VIMOS_U\",\n",
    "                    \"filters/f435w\",\n",
    "                    \"filters/f606w\",\n",
    "                    \"filters/f775w\",\n",
    "                    \"filters/f850lp\",\n",
    "                    \"filters/f098m\",\n",
    "                    \"filters/f105w\",\n",
    "                    \"filters/f125w\",\n",
    "                    \"filters/f160w\",\n",
    "                    \"filters/ISAAC_Ks\",\n",
    "                    \"filters/HAWKI_K\"\n",
    "                    \"filters/IRAC1\",\n",
    "                    \"filters/IRAC2\",\n",
    "                    \"filters/IRAC3\",\n",
    "                    \"filters/IRAC4\"]"
   ]
  },
  {
   "cell_type": "code",
   "execution_count": 6,
   "metadata": {},
   "outputs": [],
   "source": [
    "row = int(17433) - 1"
   ]
  },
  {
   "cell_type": "code",
   "execution_count": null,
   "metadata": {},
   "outputs": [],
   "source": [
    "# Extract the object we want from the catalogue.\n",
    "fluxes = cat[row, :14]\n",
    "fluxerrs = cat[row, 14:]"
   ]
  },
  {
   "cell_type": "code",
   "execution_count": null,
   "metadata": {},
   "outputs": [],
   "source": [
    "fluxes.shape"
   ]
  },
  {
   "cell_type": "code",
   "execution_count": null,
   "metadata": {},
   "outputs": [],
   "source": [
    "fluxerrs.shape"
   ]
  },
  {
   "cell_type": "code",
   "execution_count": null,
   "metadata": {},
   "outputs": [],
   "source": [
    "#Makes a 2D array using the input arrays as the columns\n",
    "#ie column 1 = fluxes, column2 = fluxerrs\n",
    "np.c_"
   ]
  },
  {
   "cell_type": "code",
   "execution_count": null,
   "metadata": {},
   "outputs": [],
   "source": [
    "# Turn these into a 2D array.\n",
    "photometry = np.c_[fluxes, fluxerrs]"
   ]
  },
  {
   "cell_type": "code",
   "execution_count": null,
   "metadata": {},
   "outputs": [],
   "source": [
    "# blow up the errors associated with any missing fluxes.\n",
    "\n",
    "#going through the rows of the 2D arrays\n",
    "for i in range(len(photometry)):\n",
    "    #If flux ==0 or error = negative\n",
    "    if (photometry[i, 0] == 0.) or (photometry[i, 1] <= 0):\n",
    "        #make the whole row [zero flux, huge error]\n",
    "        photometry[i,:] = [0., 9.9*10**99.]"
   ]
  },
  {
   "cell_type": "code",
   "execution_count": null,
   "metadata": {},
   "outputs": [],
   "source": [
    "\n",
    "\n",
    "# Find the correct row for the object we want.\n",
    "row = int(ID) - 1\n",
    "\n",
    "# Extract the object we want from the catalogue.\n",
    "fluxes = cat[row, :14]\n",
    "fluxerrs = cat[row, 14:]\n",
    "\n",
    "# Turn these into a 2D array.\n",
    "photometry = np.c_[fluxes, fluxerrs]\n",
    "\n",
    "# blow up the errors associated with any missing fluxes.\n",
    "for i in range(len(photometry)):\n",
    "    if (photometry[i, 0] == 0.) or (photometry[i, 1] <= 0):\n",
    "        photometry[i,:] = [0., 9.9*10**99.]\n",
    "\n",
    "# Enforce a maximum SNR of 20, or 10 in the IRAC channels.\n",
    "for i in range(len(photometry)):\n",
    "    if i < 10:\n",
    "        max_snr = 20.\n",
    "\n",
    "    else:\n",
    "        max_snr = 10.\n",
    "    \n",
    "    #flux/flux_err > max_snr\n",
    "    if photometry[i, 0]/photometry[i, 1] > max_snr:\n",
    "        \n",
    "        #the error column will be flux/max_snr \n",
    "        photometry[i, 1] = photometry[i, 0]/max_snr"
   ]
  },
  {
   "cell_type": "code",
   "execution_count": null,
   "metadata": {},
   "outputs": [],
   "source": []
  },
  {
   "cell_type": "code",
   "execution_count": 7,
   "metadata": {},
   "outputs": [
    {
     "data": {
      "image/png": "[encoded data removed]",
      "text/plain": [
       "<Figure size 864x288 with 1 Axes>"
      ]
     },
     "metadata": {
      "needs_background": "light"
     },
     "output_type": "display_data"
    }
   ],
   "source": [
    "galaxy = pipes.galaxy(\"17433\", load_goodss, spectrum_exists=False, filt_list=test_uvj)\n",
    "\n",
    "fig = galaxy.plot()"
   ]
  },
  {
   "cell_type": "code",
   "execution_count": 8,
   "metadata": {},
   "outputs": [],
   "source": [
    "#defining the SFH Model we want to fit\n",
    "exp = {}                                  # Tau-model star-formation history component\n",
    "exp[\"age\"] = (0.1, 15.)                   # Vary age between 100 Myr and 15 Gyr. In practice \n",
    "                                          # the code automatically limits this to the age of\n",
    "                                          # the Universe at the observed redshift.\n",
    "\n",
    "exp[\"tau\"] = (0.3, 10.)                   # Vary tau between 300 Myr and 10 Gyr\n",
    "exp[\"massformed\"] = (1., 15.)             # vary log_10(M*/M_solar) between 1 and 15\n",
    "exp[\"metallicity\"] = (0., 2.5)            # vary Z between 0 and 2.5 Z_oldsolar\n",
    "\n",
    "#defining the dust component for the model\n",
    "dust = {}                                 # Dust component\n",
    "dust[\"type\"] = \"Calzetti\"                 # Define the shape of the attenuation curve\n",
    "dust[\"Av\"] = (0., 2.)                     # Vary Av between 0 and 2 magnitudes\n",
    "\n",
    "#giving the instruction to bagpipes for\n",
    "#fitting the model\n",
    "fit_instructions = {}                     # The fit instructions dictionary\n",
    "fit_instructions[\"redshift\"] = (0., 10.)  # Vary observed redshift from 0 to 10\n",
    "fit_instructions[\"exponential\"] = exp   \n",
    "fit_instructions[\"dust\"] = dust\n"
   ]
  },
  {
   "cell_type": "code",
   "execution_count": null,
   "metadata": {},
   "outputs": [],
   "source": [
    "import time as time"
   ]
  },
  {
   "cell_type": "code",
   "execution_count": 10,
   "metadata": {},
   "outputs": [
    {
     "name": "stdout",
     "output_type": "stream",
     "text": [
      "\n",
      "Bagpipes: fitting object 17433\n",
      "\n",
      "\n",
      "Completed in 75.0 seconds.\n",
      "\n",
      "Parameter                          Posterior percentiles\n",
      "                                16th       50th       84th\n",
      "----------------------------------------------------------\n",
      "dust:Av                        0.562      1.065      1.326\n",
      "exponential:age                1.069      2.620      6.389\n",
      "exponential:massformed         8.396      9.016     10.501\n",
      "exponential:metallicity        0.566      1.403      2.101\n",
      "exponential:tau                2.800      5.812      8.464\n",
      "redshift                       0.280      0.507      1.978\n",
      "\n",
      "\n"
     ]
    }
   ],
   "source": [
    "#this is making the model\n",
    "fit = pipes.fit(galaxy, fit_instructions)\n",
    "\n",
    "#start = time.time()\n",
    "#this is the code that fits the model \n",
    "fit.fit(verbose=False)\n",
    "#end = time.time()\n",
    "\n",
    "#time_elapsed = (end-start)/60\n",
    "\n",
    "#print('Total time to run: %.1f minutes' %(time_elapsed))"
   ]
  },
  {
   "cell_type": "code",
   "execution_count": 11,
   "metadata": {},
   "outputs": [
    {
     "data": {
      "image/png": "[encoded data removed]",
      "text/plain": [
       "<Figure size 864x288 with 1 Axes>"
      ]
     },
     "metadata": {
      "needs_background": "light"
     },
     "output_type": "display_data"
    }
   ],
   "source": [
    "fig = fit.plot_spectrum_posterior(save=False, show=True)"
   ]
  },
  {
   "cell_type": "code",
   "execution_count": null,
   "metadata": {},
   "outputs": [],
   "source": [
    "from astropy.io import fits"
   ]
  },
  {
   "cell_type": "code",
   "execution_count": null,
   "metadata": {},
   "outputs": [],
   "source": [
    "hdu = fits.open('cosmos_3dhst.v4.1.cats/Catalog/cosmos_3dhst.v4.1.cat.FITS')"
   ]
  },
  {
   "cell_type": "code",
   "execution_count": null,
   "metadata": {},
   "outputs": [],
   "source": [
    "data = hdu[1].data"
   ]
  },
  {
   "cell_type": "code",
   "execution_count": null,
   "metadata": {},
   "outputs": [],
   "source": [
    "type(data[0])"
   ]
  },
  {
   "cell_type": "code",
   "execution_count": null,
   "metadata": {},
   "outputs": [],
   "source": [
    "hdu[1].header"
   ]
  },
  {
   "cell_type": "code",
   "execution_count": null,
   "metadata": {},
   "outputs": [],
   "source": [
    "import matplotlib.pyplot as plt"
   ]
  },
  {
   "cell_type": "code",
   "execution_count": null,
   "metadata": {},
   "outputs": [],
   "source": [
    "import scipy.stats as stats"
   ]
  },
  {
   "cell_type": "code",
   "execution_count": null,
   "metadata": {},
   "outputs": [],
   "source": [
    "stats.describe(data['f_f160w'])"
   ]
  },
  {
   "cell_type": "code",
   "execution_count": null,
   "metadata": {},
   "outputs": [],
   "source": [
    "[id x y ra dec faper_F160W eaper_F160W faper_F140W eaper_F140W f_F160W e_F160W w_F160W f_U \n",
    "    e_U w_U f_B e_B w_B f_G e_G w_G f_V e_V w_V f_F606W e_F606W w_F606W f_R e_R w_R f_Rp e_Rp w_Rp \n",
    "    f_I e_I w_I f_Ip e_Ip w_Ip f_F814W e_F814W w_F814W f_Z e_Z w_Z f_Zp e_Zp w_Zp \n",
    "    f_UVISTA_Y e_UVISTA_Y w_UVISTA_Y f_F125W e_F125W w_F125W f_J1 e_J1 w_J1 f_J2 e_J2 w_J2 \n",
    "    f_J3 e_J3 w_J3 f_J e_J w_J f_UVISTA_J e_UVISTA_J w_UVISTA_J f_F140W e_F140W w_F140W \n",
    "    f_H1 e_H1 w_H1 f_H2 e_H2 w_H2 f_H e_H w_H f_UVISTA_H e_UVISTA_H w_UVISTA_H f_K e_K w_K \n",
    "    f_Ks e_Ks w_Ks f_UVISTA_Ks e_UVISTA_Ks w_UVISTA_Ks f_IRAC1 e_IRAC1 w_IRAC1 f_IRAC2 e_IRAC2 w_IRAC2\n",
    "    f_IRAC3 e_IRAC3 w_IRAC3 f_IRAC4 e_IRAC4 w_IRAC4 f_IA427 e_IA427 f_IA464 e_IA464 f_IA484 e_IA484 \n",
    "    f_IA505 e_IA505 f_IA527 e_IA527 f_IA574 e_IA574 f_IA624 e_IA624 f_IA679 e_IA679 f_IA709 e_IA709 \n",
    "    f_IA738 e_IA738 f_IA767 e_IA767 f_IA827 e_IA827 tot_cor wmin_ground wmin_hst wmin_irac wmin_wfc3 \n",
    "    z_spec star_flag  kron_radius a_image b_image theta_J2000 class_star flux_radius fwhm_image flags \n",
    "    IRAC1_contam IRAC2_contam IRAC3_contam IRAC4_contam contam_flag f140w_flag use_phot near_star \n",
    "    nexp_f125w nexp_f140w nexp_f160w]"
   ]
  },
  {
   "cell_type": "code",
   "execution_count": null,
   "metadata": {},
   "outputs": [],
   "source": [
    "data[['f_f160w', 'f_f140w']]"
   ]
  },
  {
   "cell_type": "code",
   "execution_count": null,
   "metadata": {},
   "outputs": [],
   "source": [
    "for i in ['e_f160w', 'e_f140w']:\n",
    "    print(data[i])\n",
    "    \n",
    "    print()\n",
    "    print('---------')\n",
    "    print()"
   ]
  },
  {
   "cell_type": "code",
   "execution_count": null,
   "metadata": {},
   "outputs": [],
   "source": [
    "data[0]['f_f160w']"
   ]
  },
  {
   "cell_type": "code",
   "execution_count": null,
   "metadata": {},
   "outputs": [],
   "source": [
    "def Flux_Conversion(F):\n",
    "    \n",
    "    num = (25 - 8.9)/2.5\n",
    "    \n",
    "    f_nu_jnsky = F * 10**(-num) #jsky\n",
    "    \n",
    "    return f_nu_jnsky * 1e-6"
   ]
  },
  {
   "cell_type": "code",
   "execution_count": null,
   "metadata": {},
   "outputs": [],
   "source": [
    "def load_phot(ID):\n",
    "    \n",
    "    row = int(ID) - 1\n",
    "    \n",
    "    # Find the correct row for the object we want.\n",
    "    row = int(ID) - 1\n",
    "    \n",
    "    cat = fits.getdata('cosmos_3dhst.v4.1.cats/Catalog/cosmos_3dhst.v4.1.cat.FITS')\n",
    "    \n",
    "    # Extract the object we want from the catalogue.\n",
    "    fluxes = []\n",
    "    fluxerrs = []\n",
    "    \n",
    "    filters = ['f140w', 'f160w', 'f606w', 'f814w', 'irac1', 'irac2', 'irac3', 'irac4']\n",
    "    \n",
    "    for i in filters:\n",
    "        \n",
    "        f = cat[row]['f_'+i]\n",
    "        f_e = cat[row]['e_'+i]\n",
    "        \n",
    "        f_conv = Flux_Conversion(f)\n",
    "        f"
   ]
  },
  {
   "cell_type": "code",
   "execution_count": null,
   "metadata": {},
   "outputs": [],
   "source": [
    "def load_phot(ID):\n",
    "    \n",
    "    row = int(ID) - 1\n",
    "    \n",
    "    # Find the correct row for the object we want.\n",
    "    row = int(ID) - 1\n",
    "    \n",
    "    cat = fits.getdata('cosmos_3dhst.v4.1.cats/Catalog/cosmos_3dhst.v4.1.cat.FITS')\n",
    "    \n",
    "    # Extract the object we want from the catalogue.\n",
    "    fluxes = []\n",
    "    fluxerrs = []\n",
    "    \n",
    "    filters = ['f140w', 'f160w', 'f606w', 'f814w', 'irac1', 'irac2', 'irac3', 'irac4']\n",
    "    \n",
    "    for i in filters:\n",
    "        \n",
    "        f = cat[row]['f_'+i]\n",
    "        f_e = cat[row]['e_'+i]\n",
    "        \n",
    "        fluxes.append(f)\n",
    "        fluxerrs.append(f_e)\n",
    "\n",
    "    # Turn these into a 2D array.\n",
    "    photometry = np.c_[fluxes, fluxerrs]\n",
    "    \n",
    "    # blow up the errors associated with any missing fluxes.\n",
    "    for i in range(len(photometry)):\n",
    "        if (photometry[i, 0] == 0.) or (photometry[i, 1] <= 0):\n",
    "            photometry[i,:] = [0., 9.9*10**99.]\n",
    "        else:\n",
    "            photometry[i,:] = [Flux_Conversion(photometry[i, 0]), Flux_Conversion(photometry[i, 1])]\n",
    "            \n",
    "    # Enforce a maximum SNR of 20, or 10 in the IRAC channels.\n",
    "    for i in range(len(photometry)):\n",
    "        if i < 10:\n",
    "            max_snr = 20.\n",
    "            \n",
    "        else:\n",
    "            max_snr = 10.\n",
    "        \n",
    "        if photometry[i, 0]/photometry[i, 1] > max_snr:\n",
    "            photometry[i, 1] = photometry[i, 0]/max_snr\n",
    "\n",
    "    return photometry"
   ]
  },
  {
   "cell_type": "code",
   "execution_count": null,
   "metadata": {},
   "outputs": [],
   "source": [
    "load_phot(243)"
   ]
  },
  {
   "cell_type": "code",
   "execution_count": null,
   "metadata": {},
   "outputs": [],
   "source": [
    "path = 'pipes/filters/'\n",
    "test_filt = [path +'/HST_Filters/wfc_f140w.txt', path +'/HST_Filters/wfc_f160w.txt', path +'/HST_Filters/ACS_f606w.txt', \n",
    "             path +'/HST_Filters/ACS_f814w.txt', path +'/IRAC_Filters/IRAC_36_filt.txt', path +'/IRAC_Filters/IRAC_45_filt.txt', \n",
    "            path +'/IRAC_Filters/IRAC_58_filt.txt', path +'/IRAC_Filters/IRAC_80_filt.txt']"
   ]
  },
  {
   "cell_type": "code",
   "execution_count": null,
   "metadata": {},
   "outputs": [],
   "source": [
    "galaxy = pipes.galaxy(243, load_phot, spectrum_exists=False, filt_list=test_filt)\n",
    "\n",
    "fig = galaxy.plot()"
   ]
  },
  {
   "cell_type": "code",
   "execution_count": null,
   "metadata": {},
   "outputs": [],
   "source": [
    "#defining the SFH Model we want to fit\n",
    "exp = {}                                  # Tau-model star-formation history component\n",
    "exp[\"age\"] = (0.1, 15.)                   # Vary age between 100 Myr and 15 Gyr. In practice \n",
    "                                          # the code automatically limits this to the age of\n",
    "                                          # the Universe at the observed redshift.\n",
    "\n",
    "exp[\"tau\"] = (0.3, 10.)                   # Vary tau between 300 Myr and 10 Gyr\n",
    "exp[\"massformed\"] = (1., 15.)             # vary log_10(M*/M_solar) between 1 and 15\n",
    "exp[\"metallicity\"] = (0., 2.5)            # vary Z between 0 and 2.5 Z_oldsolar\n",
    "\n",
    "#defining the dust component for the model\n",
    "dust = {}                                 # Dust component\n",
    "dust[\"type\"] = \"Calzetti\"                 # Define the shape of the attenuation curve\n",
    "dust[\"Av\"] = (0., 2.)                     # Vary Av between 0 and 2 magnitudes\n",
    "\n",
    "#giving the instruction to bagpipes for\n",
    "#fitting the model\n",
    "fit_instructions = {}                     # The fit instructions dictionary\n",
    "fit_instructions[\"redshift\"] = (0., 10.)  # Vary observed redshift from 0 to 10\n",
    "fit_instructions[\"exponential\"] = exp   \n",
    "fit_instructions[\"dust\"] = dust"
   ]
  },
  {
   "cell_type": "code",
   "execution_count": null,
   "metadata": {},
   "outputs": [],
   "source": [
    "fit = pipes.fit(galaxy, fit_instructions)\n",
    "fit.fit(verbose=False)"
   ]
  },
  {
   "cell_type": "code",
   "execution_count": null,
   "metadata": {},
   "outputs": [],
   "source": [
    "fig = fit.plot_spectrum_posterior(save=False, show=True)"
   ]
  },
  {
   "cell_type": "code",
   "execution_count": null,
   "metadata": {},
   "outputs": [],
   "source": [
    "import pandas as pd"
   ]
  },
  {
   "cell_type": "code",
   "execution_count": null,
   "metadata": {},
   "outputs": [],
   "source": [
    "path_z = 'cosmos_3dhst.v4.1.cats/Eazy/cosmos_3dhst.v4.1.zout'"
   ]
  },
  {
   "cell_type": "code",
   "execution_count": null,
   "metadata": {},
   "outputs": [],
   "source": [
    "path_cat = 'cosmos_3dhst.v4.1.cats/Catalog/cosmos_3dhst.v4.1.cat'"
   ]
  },
  {
   "cell_type": "code",
   "execution_count": null,
   "metadata": {},
   "outputs": [],
   "source": [
    "data_cat = np.genfromtxt(path_cat)"
   ]
  },
  {
   "cell_type": "code",
   "execution_count": null,
   "metadata": {},
   "outputs": [],
   "source": [
    "data_cat.shape"
   ]
  },
  {
   "cell_type": "code",
   "execution_count": null,
   "metadata": {},
   "outputs": [],
   "source": [
    "columns = np.loadtxt('column_names.txt', dtype=str)"
   ]
  },
  {
   "cell_type": "code",
   "execution_count": null,
   "metadata": {},
   "outputs": [],
   "source": [
    "columns.shape"
   ]
  },
  {
   "cell_type": "code",
   "execution_count": null,
   "metadata": {},
   "outputs": [],
   "source": [
    "df = pd.DataFrame(data = data_cat, columns = columns)"
   ]
  },
  {
   "cell_type": "code",
   "execution_count": null,
   "metadata": {},
   "outputs": [],
   "source": [
    "df.columns"
   ]
  },
  {
   "cell_type": "code",
   "execution_count": null,
   "metadata": {},
   "outputs": [],
   "source": [
    "reduced_df = df[['f_F606W', 'e_F606W', 'f_F814W', 'e_F814W', 'f_F140W', 'e_F140W', 'f_F160W', 'e_F160W', \n",
    "                 'f_IRAC1', 'e_IRAC1', 'f_IRAC2', 'e_IRAC2', 'f_IRAC3', 'e_IRAC3', 'f_IRAC4', 'e_IRAC4']]"
   ]
  },
  {
   "cell_type": "code",
   "execution_count": null,
   "metadata": {},
   "outputs": [],
   "source": [
    "reduced_df.loc[0]['f_F606W']"
   ]
  },
  {
   "cell_type": "code",
   "execution_count": null,
   "metadata": {},
   "outputs": [],
   "source": [
    "def correct_flux(flux):\n",
    "    \n",
    "    if flux < 0:\n",
    "        return -99\n",
    "    else:\n",
    "        \n",
    "        exponent = (25 - 8.9)/2.5\n",
    "        conv = 10** (-exponent)\n",
    "        proper_flux = flux * conv * 1e6\n",
    "        \n",
    "        return proper_flux"
   ]
  },
  {
   "cell_type": "code",
   "execution_count": null,
   "metadata": {},
   "outputs": [],
   "source": [
    "correct_flux(reduced_df['f_F814W'][0])"
   ]
  },
  {
   "cell_type": "code",
   "execution_count": null,
   "metadata": {},
   "outputs": [],
   "source": [
    "filters = np.array(['f_F606W', 'f_F814W', 'f_F140W', 'f_F160W', 'f_IRAC1', 'f_IRAC2', 'f_IRAC3', 'f_IRAC4',\n",
    "           'e_F606W', 'e_F814W', 'e_F140W', 'e_F160W', 'e_IRAC1', 'e_IRAC2', 'e_IRAC3', 'e_IRAC4'])"
   ]
  },
  {
   "cell_type": "code",
   "execution_count": null,
   "metadata": {},
   "outputs": [],
   "source": [
    "for i in filters:\n",
    "    print('e' in i)"
   ]
  },
  {
   "cell_type": "code",
   "execution_count": null,
   "metadata": {},
   "outputs": [],
   "source": [
    "def load_data(ID):\n",
    "    \n",
    "    row = int(ID) - 1\n",
    "    \n",
    "    flux = []\n",
    "    flux_err = []\n",
    "    \n",
    "    for filt in filters:\n",
    "        \n",
    "        if 'e_' in filt:\n",
    "            f_obs = reduced_df.loc[row][filt]\n",
    "            proper_f = correct_flux(f_obs)\n",
    "            flux_err.append(proper_f)\n",
    "        else:\n",
    "            f_obs = reduced_df.loc[row][filt]\n",
    "            proper_f = correct_flux(f_obs)\n",
    "            flux.append(proper_f)\n",
    "            \n",
    "            \n",
    "    phot_2d_arr = np.c_[flux, flux_err]\n",
    "    \n",
    "    for idx in range(len(phot_2d_arr)):\n",
    "        if phot_2d_arr[idx][0] < 0 or phot_2d_arr[idx][1] < 0:\n",
    "            phot_2d_arr[idx] = np.array([0, 9e99]) \n",
    "    \n",
    "    return phot_2d_arr"
   ]
  },
  {
   "cell_type": "code",
   "execution_count": null,
   "metadata": {},
   "outputs": [],
   "source": [
    "load_data(542)"
   ]
  },
  {
   "cell_type": "code",
   "execution_count": null,
   "metadata": {},
   "outputs": [],
   "source": [
    "path = 'pipes/filters/'\n",
    "test_filt = [path +'/HST_Filters/ACS_f606w.txt', path +'/HST_Filters/ACS_f814w.txt', path +'/HST_Filters/wfc_f140w.txt', path +'/HST_Filters/wfc_f160w.txt', \n",
    "             path +'/IRAC_Filters/IRAC_36_filt.txt', path +'/IRAC_Filters/IRAC_45_filt.txt', path +'/IRAC_Filters/IRAC_58_filt.txt', path +'/IRAC_Filters/IRAC_80_filt.txt']"
   ]
  },
  {
   "cell_type": "code",
   "execution_count": null,
   "metadata": {},
   "outputs": [],
   "source": [
    "galaxy = pipes.galaxy(321, load_data, spectrum_exists=False, filt_list = test_filt)"
   ]
  },
  {
   "cell_type": "code",
   "execution_count": null,
   "metadata": {},
   "outputs": [],
   "source": [
    "galaxy.plot()"
   ]
  },
  {
   "cell_type": "code",
   "execution_count": null,
   "metadata": {},
   "outputs": [],
   "source": [
    "path_z"
   ]
  },
  {
   "cell_type": "code",
   "execution_count": null,
   "metadata": {},
   "outputs": [],
   "source": [
    "data_z = np.loadtxt(path_z, usecols = (0, 1, 17))"
   ]
  },
  {
   "cell_type": "code",
   "execution_count": null,
   "metadata": {},
   "outputs": [],
   "source": [
    "data_z[321]"
   ]
  },
  {
   "cell_type": "code",
   "execution_count": null,
   "metadata": {},
   "outputs": [],
   "source": [
    "#Model Building\n",
    "model_constant = {}\n",
    "model_constant['age_max'] = (.5, 2)\n",
    "model_constant['age_min'] = (3, 4)\n",
    "model_constant[\"metallicity\"] = (0., 2.5)   \n",
    "model_constant[\"massformed\"] = (1., 13.)           \n",
    "\n",
    "fit_instructions = {}\n",
    "fit_instructions['constant'] = model_constant\n",
    "fit_instructions['redshift'] = (0., 10)"
   ]
  },
  {
   "cell_type": "code",
   "execution_count": null,
   "metadata": {},
   "outputs": [],
   "source": [
    "fit = pipes.fit(galaxy, fit_instructions)"
   ]
  },
  {
   "cell_type": "code",
   "execution_count": null,
   "metadata": {},
   "outputs": [],
   "source": [
    "fit.fit(verbose=None)"
   ]
  },
  {
   "cell_type": "code",
   "execution_count": null,
   "metadata": {},
   "outputs": [],
   "source": [
    "fig = fit.plot_spectrum_posterior(save=False, show=True)"
   ]
  },
  {
   "cell_type": "code",
   "execution_count": null,
   "metadata": {},
   "outputs": [],
   "source": [
    "fig = fit.plot_sfh_posterior(save=False, show=True)"
   ]
  },
  {
   "cell_type": "code",
   "execution_count": null,
   "metadata": {},
   "outputs": [],
   "source": [
    "fig = fit.plot_corner(save=False, show=True)"
   ]
  },
  {
   "cell_type": "code",
   "execution_count": null,
   "metadata": {},
   "outputs": [],
   "source": [
    "def fitting_model_burst(min_age, max_age, low_Z = 0, high_Z = 0, fitting = True, metal = False, mass_formed = False):\n",
    "    \n",
    "    #here the model assumes a uniform probability distribution between the high and low parameter values specified\n",
    "    \n",
    "    if fitting and metal and mass_formed:\n",
    "        \n",
    "        burst = {}\n",
    "        burst['age'] = (min_age, max_age) #ages have to be in Gyr\n",
    "        burst['metallicity'] = (low_Z, high_Z) #solar metalicity values here will vary between low and high Z\n",
    "        burst['mass_formed'] = (low_mass, high_mass) #this will be in log10(M) values\n",
    "        \n",
    "        return burst\n",
    "    \n",
    "    elif fitting and metal:\n",
    "        \n",
    "        burst = {}\n",
    "        burst['age'] = (min_age, max_age) #ages have to be in Gyr\n",
    "        burst['metallicity'] = (low_Z, high_Z)\n",
    "        return burst\n",
    "    \n",
    "    if fitting:\n",
    "        \n",
    "        burst = {}\n",
    "        burst['age'] = (min_age, max_age) #ages have to be in Gyr\n",
    "        \n",
    "        return burst   "
   ]
  },
  {
   "cell_type": "code",
   "execution_count": null,
   "metadata": {},
   "outputs": [],
   "source": [
    "def fitting_model_constant(age_start_low, age_start_high, age_end_low, age_end_high, low_Z, high_Z, form_M_low, form_M_high, fitting = True, metal=False, mass_formed=False):\n",
    "    \n",
    "    if fitting and metal and mass_formed:\n",
    "        \n",
    "        model_constant = {}\n",
    "    \n",
    "        model_constant['age_max'] = (age_start_low, age_start_high) #time since SF tunred on: Gyr\n",
    "        model_constant['age_min'] = (age_end_low, age_end_high) #time since SF tunred off: Gyr\n",
    "\n",
    "        model_constant['metallicity'] = (low_Z, high_Z) #range of solar metallicity\n",
    "        model_constant['mass_formed'] = (form_M_low, form_M_high) #range of mass formed\n",
    "        \n",
    "        return model_constant\n",
    "    \n",
    "    elif fitting and metal:\n",
    "        \n",
    "        model_constant = {}\n",
    "    \n",
    "        model_constant['age_max'] = (age_start_low, age_start_high) #time since SF tunred on: Gyr\n",
    "        model_constant['age_min'] = (age_end_low, age_end_high) #time since SF tunred off: Gyr\n",
    "\n",
    "        model_constant['metallicity'] = (low_Z, high_Z) #range of solar metallicity\n",
    "        \n",
    "        return model_constant\n",
    "    \n",
    "    if fitting:\n",
    "        \n",
    "        model_constant = {}\n",
    "    \n",
    "        model_constant['age_max'] = (age_start_low, age_start_high) #time since SF tunred on: Gyr\n",
    "        model_constant['age_min'] = (age_end_low, age_end_high) #time since SF tunred off: Gyr\n",
    "        \n",
    "        return model_constant "
   ]
  },
  {
   "cell_type": "code",
   "execution_count": null,
   "metadata": {},
   "outputs": [],
   "source": []
  }
 ],
 "metadata": {
  "kernelspec": {
   "display_name": "Python 3",
   "language": "python",
   "name": "python3"
  },
  "language_info": {
   "codemirror_mode": {
    "name": "ipython",
    "version": 3
   },
   "file_extension": ".py",
   "mimetype": "text/x-python",
   "name": "python",
   "nbconvert_exporter": "python",
   "pygments_lexer": "ipython3",
   "version": "3.6.12"
  }
 },
 "nbformat": 4,
 "nbformat_minor": 4
}
